{
 "cells": [
  {
   "cell_type": "code",
   "execution_count": 4,
   "id": "d74cf27f-8927-4264-baa3-48906f978a89",
   "metadata": {},
   "outputs": [],
   "source": [
    "import json\n",
    "import ollama"
   ]
  },
  {
   "cell_type": "code",
   "execution_count": 35,
   "id": "b9c47f9e-a038-4d67-9de3-0a1b499f142d",
   "metadata": {},
   "outputs": [],
   "source": [
    "# MODEL_NAME = 'llama3.1:8b'\n",
    "MODEL_NAME = 'gemma2:9b'"
   ]
  },
  {
   "cell_type": "code",
   "execution_count": 3,
   "id": "b9f900ff-db42-45ea-9cc8-f620a11c4170",
   "metadata": {},
   "outputs": [],
   "source": [
    "client = ollama.Client(host='192.168.1.71:11434')"
   ]
  },
  {
   "cell_type": "code",
   "execution_count": null,
   "id": "8a8dcc3c-fbd1-4efa-81d5-ba32cb4fece8",
   "metadata": {},
   "outputs": [],
   "source": [
    "client.chat"
   ]
  },
  {
   "cell_type": "code",
   "execution_count": 6,
   "id": "a2c87335-b9d3-4e71-ba49-56887b3797f2",
   "metadata": {},
   "outputs": [],
   "source": [
    "messages = [{'role': 'system', 'content': 'You are a helpful assistant.'}, {'role': 'user', 'content': '\\n# CONTEXT #\\nI need to convert the following scene-by-scene outline into a JSON formatted list.\\n```\\n**Chapter 1: The Comfortable Life**\\n====================================\\n\\n### Scene 1: A Lazy Morning\\n\\n* **Tone:** Lighthearted and humorous\\n* **Characters:** Supercatomeow (18-year-old chubby cat) and Master Growly (fat bear)\\n* **Setting:** A cozy little house in the lovely forest, surrounded by lush greenery and towering trees.\\n\\nSupercatomeow stretches her fluffy body on a plush cushion, yawns widely, and settles back into her favorite lounging spot. She\\'s surrounded by scattered treats and crumbs from last night\\'s snack attack. Master Growly, still snuggled in his favorite chair, watches her with a warm smile.\\n\\n\"Good morning, my dear,\" he says in a gentle rumble. \"Another lovely day ahead of us, I hope?\"\\n\\nSupercatomeow blinks sleepily at him, still trying to shake off the slumber. \"Mmm... good morning, Master Growly. Can we have treats again today? Pleeease?\"\\n\\nMaster Growly chuckles and gently ruffles her fur. \"Of course, my little furry friend. You deserve a special treat after such a busy night.\"\\n\\nThis scene sets the tone for Supercatomeow\\'s carefree and indulgent lifestyle. It highlights Master Growly\\'s protective nature and his desire to provide for Supercatomeow.\\n\\n### Scene 2: A Morning Stroll\\n\\n* **Tone:** Peaceful and serene\\n* **Characters:** Supercatomeow, Master Growly, and a few curious birds singing in the trees\\n* **Setting:** The same lovely forest, now bathed in the warm sunlight of morning.\\n\\nAs the sun rises higher, Supercatomeow decides to take a leisurely stroll with Master Growly. They saunter along the winding forest path, taking in the sights and sounds of nature awakening around them. Birds flit about, chirping their morning songs, while Supercatomeow chases after a butterfly or two.\\n\\n\"This is the life,\" she purrs contentedly, nuzzling Master Growly\\'s side.\\n\\nMaster Growly smiles, enjoying the peaceful atmosphere and his companion\\'s joy. \"Indeed it is, my dear. We\\'re fortunate to live in such harmony with nature.\"\\n\\nThis scene showcases Supercatomeow\\'s love for exploration and her carefree attitude towards life. It also highlights Master Growly\\'s appreciation for the natural world and their shared bond.\\n\\n### Scene 3: Lunchtime Delights\\n\\n* **Tone:** Whimsical and playful\\n* **Characters:** Supercatomeow, Master Growly, and a tantalizing spread of treats on the table\\n* **Setting:** The cozy little house, now filled with the enticing aromas of lunch.\\n\\nSupercatomeow\\'s ears perk up at the sound of sizzling meats and savory scents wafting from the kitchen. She quickly excuses herself to join Master Growly for their midday meal.\\n\\n\"Oh joy! Treats are served!\" Supercatomeow exclaims, her eyes shining with excitement.\\n\\nMaster Growly chuckles and sets out a sumptuous spread of goodies on the table. \"Ah, yes! I\\'ve prepared something special for you today.\"\\n\\nThis scene reinforces Supercatomeow\\'s love for indulgent treats and her appreciation for Master Growly\\'s provision. It also showcases their playful dynamic and affectionate bond.\\n\\nThese scenes work together to create a vivid picture of Supercatomeow\\'s comfortable life with Master Growly in the lovely forest. Each scene offers a distinct tone, character interaction, and setting that contribute to the overall narrative.\\n```\\n###############\\n\\n# OBJECTIVE #\\nCreate a JSON list of each of scene from the provided outline where each element in the list contains the content for that scene.\\nEx:\\n[\\n    \"scene 1 content...\",\\n    \"scene 2 content...\",\\n    \"etc.\"\\n]\\n\\nDon\\'t include any other json fields, just make it a simple list of strings.\\n###############\\n\\n# STYLE #\\nRespond in pure JSON.\\n###############\\n\\n# AUDIENCE #\\nPlease tailor your response such that it is purely JSON formatted.\\n###############\\n\\n# RESPONSE #\\nDon\\'t lose any information from the original outline, just format it to fit in a list.\\n###############\\n'}, {'role': 'assistant', 'content': '```\\n[\\n  \"Supercatomeow stretches her fluffy body on a plush cushion, yawns widely, and settles back into her favorite lounging spot. She\\'s surrounded by scattered treats and crumbs from last night\\'s snack attack. Master Growly, still snuggled in his favorite chair, watches her with a warm smile.\\n\\n\"Good morning, my dear,\" he says in a gentle rumble. \"Another lovely day ahead of us, I hope?\"\\n\\nSupercatomeow blinks sleepily at him, still trying to shake off the slumber. \"Mmm... good morning, Master Growly. Can we have treats again today? Pleeease?\"\\n\\nMaster Growly chuckles and gently ruffles her fur. \"Of course, my little furry friend. You deserve a special treat after such a busy night.\"\\n\\nThis scene sets the tone for Supercatomeow\\'s carefree and indulgent lifestyle. It highlights Master Growly\\'s protective nature and his desire to provide for Supercatomeow.\",\\n  \"As the sun rises higher, Supercatomeow decides to take a leisurely stroll with Master Growly. They saunter along the winding forest path, taking in the sights and sounds of nature awakening around them. Birds flit about, chirping their morning songs, while Supercatomeow chases after a butterfly or two.\\n\\n\"This is the life,\" she purrs contentedly, nuzzling Master Growly\\'s side.\\n\\nMaster Growly smiles, enjoying the peaceful atmosphere and his companion\\'s joy. \"Indeed it is, my dear. We\\'re fortunate to live in such harmony with nature.\"\\n\\nThis scene showcases Supercatomeow\\'s love for exploration and her carefree attitude towards life. It also highlights Master Growly\\'s appreciation for the natural world and their shared bond.\",\\n  \"Supercatomeow\\'s ears perk up at the sound of sizzling meats and savory scents wafting from the kitchen. She quickly excuses herself to join Master Growly for their midday meal.\\n\\n\"Oh joy! Treats are served!\" Supercatomeow exclaims, her eyes shining with excitement.\\n\\nMaster Growly chuckles and sets out a sumptuous spread of goodies on the table. \"Ah, yes! I\\'ve prepared something special for you today.\"\\n\\nThis scene reinforces Supercatomeow\\'s love for indulgent treats and her appreciation for Master Growly\\'s provision. It also showcases their playful dynamic and affectionate bond.\"\\n]\\n```'}]"
   ]
  },
  {
   "cell_type": "code",
   "execution_count": 9,
   "id": "4104e8f5-e0c4-49f3-aa7f-9f836e5641c1",
   "metadata": {},
   "outputs": [],
   "source": [
    "MMM = messages"
   ]
  },
  {
   "cell_type": "code",
   "execution_count": 7,
   "id": "4ca85066-309e-49a5-b5e7-5a44b612e9aa",
   "metadata": {},
   "outputs": [
    {
     "data": {
      "text/plain": [
       "3"
      ]
     },
     "execution_count": 7,
     "metadata": {},
     "output_type": "execute_result"
    }
   ],
   "source": [
    "len(messages)"
   ]
  },
  {
   "cell_type": "code",
   "execution_count": 36,
   "id": "a646bc85-4e5a-4388-8835-20cb6a750fd5",
   "metadata": {},
   "outputs": [
    {
     "data": {
      "text/plain": [
       "{'model': 'gemma2:9b',\n",
       " 'created_at': '2024-09-09T04:35:31.859744Z',\n",
       " 'message': {'role': 'assistant', 'content': ''},\n",
       " 'done_reason': 'stop',\n",
       " 'done': True,\n",
       " 'total_duration': 7322313000,\n",
       " 'load_duration': 59241750,\n",
       " 'prompt_eval_count': 1424,\n",
       " 'prompt_eval_duration': 7244509000,\n",
       " 'eval_count': 1,\n",
       " 'eval_duration': 53000}"
      ]
     },
     "execution_count": 36,
     "metadata": {},
     "output_type": "execute_result"
    }
   ],
   "source": [
    "client.chat(\n",
    "    model=MODEL_NAME,\n",
    "    messages=[MMM[0], MMM[1], MMM[2]],\n",
    "    stream=False,\n",
    "    options={'temprature': 1.0},\n",
    ")"
   ]
  },
  {
   "cell_type": "code",
   "execution_count": 37,
   "id": "f3dff62e-fb97-4e1b-89c6-6d50676bbc55",
   "metadata": {},
   "outputs": [
    {
     "data": {
      "text/plain": [
       "{'model': 'gemma2:9b',\n",
       " 'created_at': '2024-09-09T04:37:01.414637Z',\n",
       " 'message': {'role': 'assistant',\n",
       "  'content': '[\\n\"**Chapter 1: The Comfortable Life**\\\\n====================================\\\\n\\\\n### Scene 1: A Lazy Morning\\\\n* **Tone:** Lighthearted and humorous\\\\n* **Characters:** Supercatomeow (18-year-old chubby cat) and Master Growly (fat bear)\\\\n* **Setting:** A cozy little house in the lovely forest, surrounded by lush greenery and towering trees.\\\\n\\\\nSupercatomeow stretches her fluffy body on a plush cushion, yawns widely, and settles back into her favorite lounging spot. She\\'s surrounded by scattered treats and crumbs from last night\\'s snack attack. Master Growly, still snuggled in his favorite chair, watches her with a warm smile.\\\\n\\\\n\\\\\"Good morning, my dear,\\\\\" he says in a gentle rumble. \\\\\"Another lovely day ahead of us, I hope?\\\\\"\\\\n\\\\nSupercatomeow blinks sleepily at him, still trying to shake off the slumber. \\\\\"Mmm... good morning, Master Growly. Can we have treats again today? Pleeease?\\\\\"\\\\n\\\\nMaster Growly chuckles and gently ruffles her fur. \\\\\"Of course, my little furry friend. You deserve a special treat after such a busy night.\\\\\"\\\\n\\\\nThis scene sets the tone for Supercatomeow\\'s carefree and indulgent lifestyle. It highlights Master Growly\\'s protective nature and his desire to provide for Supercatomeow.\\\\n\\\\n### Scene 2: A Morning Stroll\\\\n* **Tone:** Peaceful and serene\\\\n* **Characters:** Supercatomeow, Master Growly, and a few curious birds singing in the trees\\\\n* **Setting:** The same lovely forest, now bathed in the warm sunlight of morning.\\\\n\\\\nAs the sun rises higher, Supercatomeow decides to take a leisurely stroll with Master Growly. They saunter along the winding forest path, taking in the sights and sounds of nature awakening around them. Birds flit about, chirping their morning songs, while Supercatomeow chases after a butterfly or two.\\\\n\\\\n\\\\\"This is the life,\\\\\" she purrs contentedly, nuzzling Master Growly\\'s side.\\\\n\\\\nMaster Growly smiles, enjoying the peaceful atmosphere and his companion\\'s joy. \\\\\"Indeed it is, my dear. We\\'re fortunate to live in such harmony with nature.\\\\\"\\\\n\\\\nThis scene showcases Supercatomeow\\'s love for exploration and her carefree attitude towards life. It also highlights Master Growly\\'s appreciation for the natural world and their shared bond.\\\\n\\\\n### Scene 3: Lunchtime Delights\\\\n* **Tone:** Whimsical and playful\\\\n* **Characters:** Supercatomeow, Master Growly, and a tantalizing spread of treats on the table\\\\n* **Setting:** The cozy little house, now filled with the enticing aromas of lunch.\\\\n\\\\nSupercatomeow\\'s ears perk up at the sound of sizzling meats and savory scents wafting from the kitchen. She quickly excuses herself to join Master Growly for their midday meal.\\\\n\\\\n\\\\\"Oh joy! Treats are served!\\\\\" Supercatomeow exclaims, her eyes shining with excitement.\\\\n\\\\nMaster Growly chuckles and sets out a sumptuous spread of goodies on the table. \\\\\"Ah, yes! I\\'ve prepared something special for you today.\\\\\"\\\\n\\\\nThis scene reinforces Supercatomeow\\'s love for indulgent treats and her appreciation for Master Growly\\'s provision. It also showcases their playful dynamic and affectionate bond.\\\\n\\\\nThese scenes work together to create a vivid picture of Supercatomeow\\'s comfortable life with Master Growly in the lovely forest. Each scene offers a distinct tone, character interaction, and setting that contribute to the overall narrative.\",\\n\"Chapter 1: The Comfortable Life\\\\n====================================\\\\n\\\\n### Scene 1: A Lazy Morning\\\\n* **Tone:** Lighthearted and humorous\\\\n* **Characters:** Supercatomeow (18-year-old chubby cat) and Master Growly (fat bear)\\\\n* **Setting:** A cozy little house in the lovely forest, surrounded by lush greenery and towering trees.\\\\n\\\\nSupercatomeow stretches her fluffy body on a plush cushion, yawns widely, and settles back into her favorite lounging spot. She\\'s surrounded by scattered treats and crumbs from last night\\'s snack attack. Master Growly, still snuggled in his favorite chair, watches her with a warm smile.\\\\n\\\\n\\\\\"Good morning, my dear,\\\\\" he says in a gentle rumble. \\\\\"Another lovely day ahead of us, I hope?\\\\\"\\\\n\\\\nSupercatomeow blinks sleepily at him, still trying to shake off the slumber. \\\\\"Mmm... good morning, Master Growly. Can we have treats again today? Pleeease?\\\\\"\\\\n\\\\nMaster Growly chuckles and gently ruffles her fur. \\\\\"Of course, my little furry friend. You deserve a special treat after such a busy night.\\\\\"\\\\n\\\\nThis scene sets the tone for Supercatomeow\\'s carefree and indulgent lifestyle. It highlights Master Growly\\'s protective nature and his desire to provide for Supercatomeow.\\\\n\\\\n### Scene 2: A Morning Stroll\\\\n* **Tone:** Peaceful and serene\\\\n* **Characters:** Supercatomeow, Master Growly, and a few curious birds singing in the trees\\\\n* **Setting:** The same lovely forest, now bathed in the warm sunlight of morning.\\\\n\\\\nAs the sun rises higher, Supercatomeow decides to take a leisurely stroll with Master Growly. They saunter along the winding forest path, taking in the sights and sounds of nature awakening around them. Birds flit about, chirping their morning songs, while Supercatomeow chases after a butterfly or two.\\\\n\\\\n\\\\\"This is the life,\\\\\" she purrs contentedly, nuzzling Master Growly\\'s side.\\\\n\\\\nMaster Growly smiles, enjoying the peaceful atmosphere and his companion\\'s joy. \\\\\"Indeed it is, my dear. We\\'re fortunate to live in such harmony with nature.\\\\\"\\\\n\\\\nThis scene showcases Supercatomeow\\'s love for exploration and her carefree attitude towards life. It also highlights Master Growly\\'s appreciation for the natural world and their shared bond.\\\\n\\\\n### Scene 3: Lunchtime Delights\\\\n* **Tone:** Whimsical and playful\\\\n* **Characters:** Supercatomeow, Master Growly, and a tantalizing spread of treats on the table\\\\n* **Setting:** The cozy little house, now filled with the enticing aromas of lunch.\\\\n\\\\nSupercatomeow\\'s ears perk up at the sound of sizzling meats and savory scents wafting from the kitchen. She quickly excuses herself to join Master Growly for their midday meal.\\\\n\\\\n\\\\\"Oh joy! Treats are served!\\\\\" Supercatomeow exclaims, her eyes shining with excitement.\\\\n\\\\nMaster Growly chuckles and sets out a sumptuous spread of goodies on the table. \\\\\"Ah, yes! I\\'ve prepared something special for you today.\\\\\"\\\\n\\\\nThis scene reinforces Supercatomeow\\'s love for indulgent treats and her appreciation for Master Growly\\'s provision. It also showcases their playful dynamic and affectionate bond.\\\\n\\\\nThese scenes work together to create a vivid picture of Supercatomeow\\'s comfortable life with Master Growly in the lovely forest. Each scene offers a distinct tone, character interaction, and setting that contribute to the overall narrative.\" ]\\n'},\n",
       " 'done_reason': 'stop',\n",
       " 'done': True,\n",
       " 'total_duration': 74479409959,\n",
       " 'load_duration': 39595459,\n",
       " 'prompt_eval_count': 923,\n",
       " 'prompt_eval_duration': 779753000,\n",
       " 'eval_count': 1584,\n",
       " 'eval_duration': 73653960000}"
      ]
     },
     "execution_count": 37,
     "metadata": {},
     "output_type": "execute_result"
    }
   ],
   "source": [
    "another_response = client.chat(\n",
    "    model=MODEL_NAME,\n",
    "    messages=[MMM[0], MMM[1]],\n",
    "    stream=False,\n",
    "    options={'temprature': 1.0},\n",
    ")\n",
    "another_response"
   ]
  },
  {
   "cell_type": "code",
   "execution_count": 38,
   "id": "b8f44ebd-13cf-412f-8aa5-cdc3135e5015",
   "metadata": {},
   "outputs": [
    {
     "data": {
      "text/plain": [
       "{'model': 'gemma2:9b',\n",
       " 'created_at': '2024-09-09T04:37:01.542148Z',\n",
       " 'message': {'role': 'assistant', 'content': ''},\n",
       " 'done_reason': 'stop',\n",
       " 'done': True,\n",
       " 'total_duration': 105179875,\n",
       " 'load_duration': 29044583,\n",
       " 'prompt_eval_count': 2506,\n",
       " 'prompt_eval_duration': 60070000,\n",
       " 'eval_count': 1,\n",
       " 'eval_duration': 6000}"
      ]
     },
     "execution_count": 38,
     "metadata": {},
     "output_type": "execute_result"
    }
   ],
   "source": [
    "client.chat(\n",
    "    model=MODEL_NAME,\n",
    "    messages=[MMM[0], MMM[1], {'role': 'assistant', 'content': another_response['message']['content']}],\n",
    "    stream=False,\n",
    "    options={'temprature': 0.9},\n",
    ")"
   ]
  },
  {
   "cell_type": "code",
   "execution_count": 30,
   "id": "9141731e-ceec-4750-9568-0c958a3f70cc",
   "metadata": {},
   "outputs": [
    {
     "data": {
      "text/plain": [
       "'[\\n  \"**Chapter 1: The Comfortable Life**\\\\n\\\\n### Scene 1: A Lazy Morning\\\\n\\\\n* **Tone:** Lighthearted and humorous\\\\n* **Characters:** Supercatomeow (18-year-old chubby cat) and Master Growly (fat bear)\\\\n* **Setting:** A cozy little house in the lovely forest, surrounded by lush greenery and towering trees.\\\\n\\\\nSupercatomeow stretches her fluffy body on a plush cushion, yawns widely, and settles back into her favorite lounging spot. She\\'s surrounded by scattered treats and crumbs from last night\\'s snack attack. Master Growly, still snuggled in his favorite chair, watches her with a warm smile.\\\\n\\\\n\\\\\"Good morning, my dear,\\\\\" he says in a gentle rumble. \\\\\"Another lovely day ahead of us, I hope?\\\\\"\\\\n\\\\nSupercatomeow blinks sleepily at him, still trying to shake off the slumber. \\\\\"Mmm... good morning, Master Growly. Can we have treats again today? Pleeease?\\\\\"\\\\n\\\\nMaster Growly chuckles and gently ruffles her fur. \\\\\"Of course, my little furry friend. You deserve a special treat after such a busy night.\\\\\"\\\\n\\\\nThis scene sets the tone for Supercatomeow\\'s carefree and indulgent lifestyle. It highlights Master Growly\\'s protective nature and his desire to provide for Supercatomeow.\\\\n\\\\n### Scene 2: A Morning Stroll\\\\n\\\\n* **Tone:** Peaceful and serene\\\\n* **Characters:** Supercatomeow, Master Growly, and a few curious birds singing in the trees\\\\n* **Setting:** The same lovely forest, now bathed in the warm sunlight of morning.\\\\n\\\\nAs the sun rises higher, Supercatomeow decides to take a leisurely stroll with Master Growly. They saunter along the winding forest path, taking in the sights and sounds of nature awakening around them. Birds flit about, chirping their morning songs, while Supercatomeow chases after a butterfly or two.\\\\n\\\\n\\\\\"This is the life,\\\\\" she purrs contentedly, nuzzling Master Growly\\'s side.\\\\n\\\\nMaster Growly smiles, enjoying the peaceful atmosphere and his companion\\'s joy. \\\\\"Indeed it is, my dear. We\\'re fortunate to live in such harmony with nature.\\\\\"\\\\n\\\\nThis scene showcases Supercatomeow\\'s love for exploration and her carefree attitude towards life. It also highlights Master Growly\\'s appreciation for the natural world and their shared bond.\\\\n\\\\n### Scene 3: Lunchtime Delights\\\\n\\\\n* **Tone:** Whimsical and playful\\\\n* **Characters:** Supercatomeow, Master Growly, and a tantalizing spread of treats on the table\\\\n* **Setting:** The cozy little house, now filled with the enticing aromas of lunch.\\\\n\\\\nSupercatomeow\\'s ears perk up at the sound of sizzling meats and savory scents wafting from the kitchen. She quickly excuses herself to join Master Growly for their midday meal.\\\\n\\\\n\\\\\"Oh joy! Treats are served!\\\\\"\\\\n\\\\nMaster Growly chuckles and sets out a sumptuous spread of goodies on the table. \\\\\"Ah, yes! I\\'ve prepared something special for you today.\\\\\"\\\\n\\\\nThis scene reinforces Supercatomeow\\'s love for indulgent treats and her appreciation for Master Growly\\'s provision. It also showcases their playful dynamic and affectionate bond.\\\\n\\\\nThese scenes work together to create a vivid picture of Supercatomeow\\'s comfortable life with Master Growly in the lovely forest. Each scene offers a distinct tone, character interaction, and setting that contribute to the overall narrative.\"\\n,\\n  \"**Chapter 1: The Comfortable Life**\\\\n\\\\n### Scene 2: A Morning Stroll\\\\n\\\\n* **Tone:** Peaceful and serene\\\\n* **Characters:** Supercatomeow, Master Growly, and a few curious birds singing in the trees\\\\n* **Setting:** The same lovely forest, now bathed in the warm sunlight of morning.\\\\n\\\\nAs the sun rises higher, Supercatomeow decides to take a leisurely stroll with Master Growly. They saunter along the winding forest path, taking in the sights and sounds of nature awakening around them. Birds flit about, chirping their morning songs, while Supercatomeow chases after a butterfly or two.\\\\n\\\\n\\\\\"This is the life,\\\\\" she purrs contentedly, nuzzling Master Growly\\'s side.\\\\n\\\\nMaster Growly smiles, enjoying the peaceful atmosphere and his companion\\'s joy. \\\\\"Indeed it is, my dear. We\\'re fortunate to live in such harmony with nature.\\\\\"\\\\n\\\\nThis scene showcases Supercatomeow\\'s love for exploration and her carefree attitude towards life. It also highlights Master Growly\\'s appreciation for the natural world and their shared bond.\"\\n,\\n  \"**Chapter 1: The Comfortable Life**\\\\n\\\\n### Scene 3: Lunchtime Delights\\\\n\\\\n* **Tone:** Whimsical and playful\\\\n* **Characters:** Supercatomeow, Master Growly, and a tantalizing spread of treats on the table\\\\n* **Setting:** The cozy little house, now filled with the enticing aromas of lunch.\\\\n\\\\nSupercatomeow\\'s ears perk up at the sound of sizzling meats and savory scents wafting from the kitchen. She quickly excuses herself to join Master Growly for their midday meal.\\\\n\\\\n\\\\\"Oh joy! Treats are served!\\\\\"\\\\n\\\\nMaster Growly chuckles and sets out a sumptuous spread of goodies on the table. \\\\\"Ah, yes! I\\'ve prepared something special for you today.\\\\\"\\\\n\\\\nThis scene reinforces Supercatomeow\\'s love for indulgent treats and her appreciation for Master Growly\\'s provision. It also showcases their playful dynamic and affectionate bond.\"\\n]'"
      ]
     },
     "execution_count": 30,
     "metadata": {},
     "output_type": "execute_result"
    }
   ],
   "source": [
    "another_response['message']['content']"
   ]
  },
  {
   "cell_type": "code",
   "execution_count": 28,
   "id": "307bdea7-6b06-4002-b63d-d54916d1a80d",
   "metadata": {},
   "outputs": [
    {
     "data": {
      "text/plain": [
       "['model',\n",
       " 'created_at',\n",
       " 'message',\n",
       " 'done_reason',\n",
       " 'done',\n",
       " 'total_duration',\n",
       " 'load_duration',\n",
       " 'prompt_eval_count',\n",
       " 'prompt_eval_duration',\n",
       " 'eval_count',\n",
       " 'eval_duration']"
      ]
     },
     "execution_count": 28,
     "metadata": {},
     "output_type": "execute_result"
    }
   ],
   "source": [
    "list(another_response.keys())"
   ]
  },
  {
   "cell_type": "code",
   "execution_count": 39,
   "id": "99c659d0-7064-4519-bf89-9a5cf43f8dec",
   "metadata": {},
   "outputs": [
    {
     "data": {
      "text/plain": [
       "[{'role': 'system', 'content': 'You are a helpful assistant.'},\n",
       " {'role': 'user',\n",
       "  'content': '\\n# CONTEXT #\\nI need to convert the following scene-by-scene outline into a JSON formatted list.\\n```\\n**Chapter 1: The Comfortable Life**\\n====================================\\n\\n### Scene 1: A Lazy Morning\\n\\n* **Tone:** Lighthearted and humorous\\n* **Characters:** Supercatomeow (18-year-old chubby cat) and Master Growly (fat bear)\\n* **Setting:** A cozy little house in the lovely forest, surrounded by lush greenery and towering trees.\\n\\nSupercatomeow stretches her fluffy body on a plush cushion, yawns widely, and settles back into her favorite lounging spot. She\\'s surrounded by scattered treats and crumbs from last night\\'s snack attack. Master Growly, still snuggled in his favorite chair, watches her with a warm smile.\\n\\n\"Good morning, my dear,\" he says in a gentle rumble. \"Another lovely day ahead of us, I hope?\"\\n\\nSupercatomeow blinks sleepily at him, still trying to shake off the slumber. \"Mmm... good morning, Master Growly. Can we have treats again today? Pleeease?\"\\n\\nMaster Growly chuckles and gently ruffles her fur. \"Of course, my little furry friend. You deserve a special treat after such a busy night.\"\\n\\nThis scene sets the tone for Supercatomeow\\'s carefree and indulgent lifestyle. It highlights Master Growly\\'s protective nature and his desire to provide for Supercatomeow.\\n\\n### Scene 2: A Morning Stroll\\n\\n* **Tone:** Peaceful and serene\\n* **Characters:** Supercatomeow, Master Growly, and a few curious birds singing in the trees\\n* **Setting:** The same lovely forest, now bathed in the warm sunlight of morning.\\n\\nAs the sun rises higher, Supercatomeow decides to take a leisurely stroll with Master Growly. They saunter along the winding forest path, taking in the sights and sounds of nature awakening around them. Birds flit about, chirping their morning songs, while Supercatomeow chases after a butterfly or two.\\n\\n\"This is the life,\" she purrs contentedly, nuzzling Master Growly\\'s side.\\n\\nMaster Growly smiles, enjoying the peaceful atmosphere and his companion\\'s joy. \"Indeed it is, my dear. We\\'re fortunate to live in such harmony with nature.\"\\n\\nThis scene showcases Supercatomeow\\'s love for exploration and her carefree attitude towards life. It also highlights Master Growly\\'s appreciation for the natural world and their shared bond.\\n\\n### Scene 3: Lunchtime Delights\\n\\n* **Tone:** Whimsical and playful\\n* **Characters:** Supercatomeow, Master Growly, and a tantalizing spread of treats on the table\\n* **Setting:** The cozy little house, now filled with the enticing aromas of lunch.\\n\\nSupercatomeow\\'s ears perk up at the sound of sizzling meats and savory scents wafting from the kitchen. She quickly excuses herself to join Master Growly for their midday meal.\\n\\n\"Oh joy! Treats are served!\" Supercatomeow exclaims, her eyes shining with excitement.\\n\\nMaster Growly chuckles and sets out a sumptuous spread of goodies on the table. \"Ah, yes! I\\'ve prepared something special for you today.\"\\n\\nThis scene reinforces Supercatomeow\\'s love for indulgent treats and her appreciation for Master Growly\\'s provision. It also showcases their playful dynamic and affectionate bond.\\n\\nThese scenes work together to create a vivid picture of Supercatomeow\\'s comfortable life with Master Growly in the lovely forest. Each scene offers a distinct tone, character interaction, and setting that contribute to the overall narrative.\\n```\\n###############\\n\\n# OBJECTIVE #\\nCreate a JSON list of each of scene from the provided outline where each element in the list contains the content for that scene.\\nEx:\\n[\\n    \"scene 1 content...\",\\n    \"scene 2 content...\",\\n    \"etc.\"\\n]\\n\\nDon\\'t include any other json fields, just make it a simple list of strings.\\n###############\\n\\n# STYLE #\\nRespond in pure JSON.\\n###############\\n\\n# AUDIENCE #\\nPlease tailor your response such that it is purely JSON formatted.\\n###############\\n\\n# RESPONSE #\\nDon\\'t lose any information from the original outline, just format it to fit in a list.\\n###############\\n'},\n",
       " {'role': 'assistant',\n",
       "  'content': '```\\n[\\n  \"Supercatomeow stretches her fluffy body on a plush cushion, yawns widely, and settles back into her favorite lounging spot. She\\'s surrounded by scattered treats and crumbs from last night\\'s snack attack. Master Growly, still snuggled in his favorite chair, watches her with a warm smile.\\n\\n\"Good morning, my dear,\" he says in a gentle rumble. \"Another lovely day ahead of us, I hope?\"\\n\\nSupercatomeow blinks sleepily at him, still trying to shake off the slumber. \"Mmm... good morning, Master Growly. Can we have treats again today? Pleeease?\"\\n\\nMaster Growly chuckles and gently ruffles her fur. \"Of course, my little furry friend. You deserve a special treat after such a busy night.\"\\n\\nThis scene sets the tone for Supercatomeow\\'s carefree and indulgent lifestyle. It highlights Master Growly\\'s protective nature and his desire to provide for Supercatomeow.\",\\n  \"As the sun rises higher, Supercatomeow decides to take a leisurely stroll with Master Growly. They saunter along the winding forest path, taking in the sights and sounds of nature awakening around them. Birds flit about, chirping their morning songs, while Supercatomeow chases after a butterfly or two.\\n\\n\"This is the life,\" she purrs contentedly, nuzzling Master Growly\\'s side.\\n\\nMaster Growly smiles, enjoying the peaceful atmosphere and his companion\\'s joy. \"Indeed it is, my dear. We\\'re fortunate to live in such harmony with nature.\"\\n\\nThis scene showcases Supercatomeow\\'s love for exploration and her carefree attitude towards life. It also highlights Master Growly\\'s appreciation for the natural world and their shared bond.\",\\n  \"Supercatomeow\\'s ears perk up at the sound of sizzling meats and savory scents wafting from the kitchen. She quickly excuses herself to join Master Growly for their midday meal.\\n\\n\"Oh joy! Treats are served!\" Supercatomeow exclaims, her eyes shining with excitement.\\n\\nMaster Growly chuckles and sets out a sumptuous spread of goodies on the table. \"Ah, yes! I\\'ve prepared something special for you today.\"\\n\\nThis scene reinforces Supercatomeow\\'s love for indulgent treats and her appreciation for Master Growly\\'s provision. It also showcases their playful dynamic and affectionate bond.\"\\n]\\n```'}]"
      ]
     },
     "execution_count": 39,
     "metadata": {},
     "output_type": "execute_result"
    }
   ],
   "source": [
    "MMM"
   ]
  },
  {
   "cell_type": "code",
   "execution_count": 40,
   "id": "650d22cf-8b33-4f50-9dc7-43e376ec8e08",
   "metadata": {},
   "outputs": [
    {
     "data": {
      "text/plain": [
       "{'role': 'user',\n",
       " 'content': '\\n# CONTEXT #\\nI need to convert the following scene-by-scene outline into a JSON formatted list.\\n```\\n**Chapter 1: The Comfortable Life**\\n====================================\\n\\n### Scene 1: A Lazy Morning\\n\\n* **Tone:** Lighthearted and humorous\\n* **Characters:** Supercatomeow (18-year-old chubby cat) and Master Growly (fat bear)\\n* **Setting:** A cozy little house in the lovely forest, surrounded by lush greenery and towering trees.\\n\\nSupercatomeow stretches her fluffy body on a plush cushion, yawns widely, and settles back into her favorite lounging spot. She\\'s surrounded by scattered treats and crumbs from last night\\'s snack attack. Master Growly, still snuggled in his favorite chair, watches her with a warm smile.\\n\\n\"Good morning, my dear,\" he says in a gentle rumble. \"Another lovely day ahead of us, I hope?\"\\n\\nSupercatomeow blinks sleepily at him, still trying to shake off the slumber. \"Mmm... good morning, Master Growly. Can we have treats again today? Pleeease?\"\\n\\nMaster Growly chuckles and gently ruffles her fur. \"Of course, my little furry friend. You deserve a special treat after such a busy night.\"\\n\\nThis scene sets the tone for Supercatomeow\\'s carefree and indulgent lifestyle. It highlights Master Growly\\'s protective nature and his desire to provide for Supercatomeow.\\n\\n### Scene 2: A Morning Stroll\\n\\n* **Tone:** Peaceful and serene\\n* **Characters:** Supercatomeow, Master Growly, and a few curious birds singing in the trees\\n* **Setting:** The same lovely forest, now bathed in the warm sunlight of morning.\\n\\nAs the sun rises higher, Supercatomeow decides to take a leisurely stroll with Master Growly. They saunter along the winding forest path, taking in the sights and sounds of nature awakening around them. Birds flit about, chirping their morning songs, while Supercatomeow chases after a butterfly or two.\\n\\n\"This is the life,\" she purrs contentedly, nuzzling Master Growly\\'s side.\\n\\nMaster Growly smiles, enjoying the peaceful atmosphere and his companion\\'s joy. \"Indeed it is, my dear. We\\'re fortunate to live in such harmony with nature.\"\\n\\nThis scene showcases Supercatomeow\\'s love for exploration and her carefree attitude towards life. It also highlights Master Growly\\'s appreciation for the natural world and their shared bond.\\n\\n### Scene 3: Lunchtime Delights\\n\\n* **Tone:** Whimsical and playful\\n* **Characters:** Supercatomeow, Master Growly, and a tantalizing spread of treats on the table\\n* **Setting:** The cozy little house, now filled with the enticing aromas of lunch.\\n\\nSupercatomeow\\'s ears perk up at the sound of sizzling meats and savory scents wafting from the kitchen. She quickly excuses herself to join Master Growly for their midday meal.\\n\\n\"Oh joy! Treats are served!\" Supercatomeow exclaims, her eyes shining with excitement.\\n\\nMaster Growly chuckles and sets out a sumptuous spread of goodies on the table. \"Ah, yes! I\\'ve prepared something special for you today.\"\\n\\nThis scene reinforces Supercatomeow\\'s love for indulgent treats and her appreciation for Master Growly\\'s provision. It also showcases their playful dynamic and affectionate bond.\\n\\nThese scenes work together to create a vivid picture of Supercatomeow\\'s comfortable life with Master Growly in the lovely forest. Each scene offers a distinct tone, character interaction, and setting that contribute to the overall narrative.\\n```\\n###############\\n\\n# OBJECTIVE #\\nCreate a JSON list of each of scene from the provided outline where each element in the list contains the content for that scene.\\nEx:\\n[\\n    \"scene 1 content...\",\\n    \"scene 2 content...\",\\n    \"etc.\"\\n]\\n\\nDon\\'t include any other json fields, just make it a simple list of strings.\\n###############\\n\\n# STYLE #\\nRespond in pure JSON.\\n###############\\n\\n# AUDIENCE #\\nPlease tailor your response such that it is purely JSON formatted.\\n###############\\n\\n# RESPONSE #\\nDon\\'t lose any information from the original outline, just format it to fit in a list.\\n###############\\n'}"
      ]
     },
     "execution_count": 40,
     "metadata": {},
     "output_type": "execute_result"
    }
   ],
   "source": [
    "MMM[1]"
   ]
  },
  {
   "cell_type": "code",
   "execution_count": null,
   "id": "021ef6fe-2385-4ebe-a9a7-ca02161f2d4c",
   "metadata": {},
   "outputs": [],
   "source": []
  }
 ],
 "metadata": {
  "kernelspec": {
   "display_name": "Python 3 (ipykernel)",
   "language": "python",
   "name": "python3"
  },
  "language_info": {
   "codemirror_mode": {
    "name": "ipython",
    "version": 3
   },
   "file_extension": ".py",
   "mimetype": "text/x-python",
   "name": "python",
   "nbconvert_exporter": "python",
   "pygments_lexer": "ipython3",
   "version": "3.10.12"
  }
 },
 "nbformat": 4,
 "nbformat_minor": 5
}
